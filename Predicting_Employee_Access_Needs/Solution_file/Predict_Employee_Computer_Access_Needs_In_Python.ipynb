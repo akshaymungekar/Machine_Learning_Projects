{
  "nbformat": 4,
  "nbformat_minor": 0,
  "metadata": {
    "kernelspec": {
      "display_name": "Python 2",
      "language": "python",
      "name": "python2"
    },
    "language_info": {
      "codemirror_mode": {
        "name": "ipython",
        "version": 2
      },
      "file_extension": ".py",
      "mimetype": "text/x-python",
      "name": "python",
      "nbconvert_exporter": "python",
      "pygments_lexer": "ipython2",
      "version": "2.7.10"
    },
    "colab": {
      "name": "Predict Employee Computer Access Needs In Python.ipynb",
      "provenance": []
    }
  },
  "cells": [
    {
      "cell_type": "code",
      "metadata": {
        "id": "mRPLwh99TAUD",
        "colab_type": "code",
        "colab": {}
      },
      "source": [
        ""
      ],
      "execution_count": 0,
      "outputs": []
    },
    {
      "cell_type": "code",
      "metadata": {
        "id": "WFJSNUR7TXxv",
        "colab_type": "code",
        "colab": {}
      },
      "source": [
        "!pip install -U -q PyDrive\n",
        "from pydrive.auth import GoogleAuth\n",
        "from pydrive.drive import GoogleDrive\n",
        "from google.colab import auth\n",
        "from oauth2client.client import GoogleCredentials\n",
        "auth.authenticate_user()\n",
        "gauth = GoogleAuth()\n",
        "gauth.credentials = GoogleCredentials.get_application_default()\n",
        "drive = GoogleDrive(gauth)"
      ],
      "execution_count": 0,
      "outputs": []
    },
    {
      "cell_type": "code",
      "metadata": {
        "id": "RW1MdHtdTAUK",
        "colab_type": "code",
        "colab": {}
      },
      "source": [
        "import pandas as pd\n",
        "import numpy as np\n",
        "import matplotlib as plt\n",
        "%matplotlib inline"
      ],
      "execution_count": 0,
      "outputs": []
    },
    {
      "cell_type": "code",
      "metadata": {
        "id": "skOoHiBgTX2O",
        "colab_type": "code",
        "colab": {}
      },
      "source": [
        "trdata = drive.CreateFile({'id':'1P8-kkqtEBvznHYw6bM3wrjxsa1Ff4z7C'})\n",
        "trdata.GetContentFile('train.csv')\n",
        "trdata = pd.read_csv(\"train.csv\")\n",
        "\n",
        "test = drive.CreateFile({'id':'1xZdWuO4r1SkDgUCSSKI6V8jmiqcIos1i'})\n",
        "test.GetContentFile('test.csv')\n",
        "test = pd.read_csv(\"test.csv\")\n",
        "testdata = test"
      ],
      "execution_count": 0,
      "outputs": []
    },
    {
      "cell_type": "code",
      "metadata": {
        "id": "QDd9GgeHTAUI",
        "colab_type": "code",
        "colab": {}
      },
      "source": [
        "#Import the dataset\n",
        "#Perform Univariate Analysis\n",
        "#Data Transformation conversion\n",
        "#prepare model data\n",
        "#select model\n",
        "#apply model\n",
        "#evaluate results"
      ],
      "execution_count": 0,
      "outputs": []
    },
    {
      "cell_type": "code",
      "metadata": {
        "id": "MvbZq4JQTAUM",
        "colab_type": "code",
        "colab": {}
      },
      "source": [
        "#trdata = pd.read_csv(\"/root/hackerday/12_employee_access_need/train.csv\")\n",
        "#print trdata.head()"
      ],
      "execution_count": 0,
      "outputs": []
    },
    {
      "cell_type": "code",
      "metadata": {
        "id": "IssNvUjsTAUP",
        "colab_type": "code",
        "colab": {
          "base_uri": "https://localhost:8080/",
          "height": 118
        },
        "outputId": "d8476f30-4ba7-4de4-c275-d80d5690dbfe"
      },
      "source": [
        "trdata['ROLE_ROLLUP_2'].value_counts().head()"
      ],
      "execution_count": 6,
      "outputs": [
        {
          "output_type": "execute_result",
          "data": {
            "text/plain": [
              "118300    4424\n",
              "118343    3945\n",
              "118327    2641\n",
              "118225    2547\n",
              "118386    1796\n",
              "Name: ROLE_ROLLUP_2, dtype: int64"
            ]
          },
          "metadata": {
            "tags": []
          },
          "execution_count": 6
        }
      ]
    },
    {
      "cell_type": "code",
      "metadata": {
        "id": "JqCkYwoCTAUR",
        "colab_type": "code",
        "colab": {
          "base_uri": "https://localhost:8080/",
          "height": 314
        },
        "outputId": "4ec45bb1-d13a-4b8c-fa27-72e15bd26c7c"
      },
      "source": [
        "trdata['MGR_ID'].value_counts().plot(kind='bar')"
      ],
      "execution_count": 7,
      "outputs": [
        {
          "output_type": "execute_result",
          "data": {
            "text/plain": [
              "<matplotlib.axes._subplots.AxesSubplot at 0x7f169c261b90>"
            ]
          },
          "metadata": {
            "tags": []
          },
          "execution_count": 7
        },
        {
          "output_type": "display_data",
          "data": {
            "image/png": "[encoded data removed]",
            "text/plain": [
              "<Figure size 432x288 with 1 Axes>"
            ]
          },
          "metadata": {
            "tags": []
          }
        }
      ]
    },
    {
      "cell_type": "code",
      "metadata": {
        "id": "wmcSvr5nTAUT",
        "colab_type": "code",
        "colab": {}
      },
      "source": [
        "from numpy import array\n",
        "from sklearn import metrics, linear_model\n",
        "from sklearn.model_selection import KFold\n",
        "from scipy import sparse\n",
        "from itertools import combinations\n"
      ],
      "execution_count": 0,
      "outputs": []
    },
    {
      "cell_type": "code",
      "metadata": {
        "id": "jTNOYqwjTAUV",
        "colab_type": "code",
        "colab": {}
      },
      "source": [
        "import numpy as np\n",
        "import pandas as pd\n",
        "import sys\n",
        "import random\n",
        "import time"
      ],
      "execution_count": 0,
      "outputs": []
    },
    {
      "cell_type": "code",
      "metadata": {
        "id": "gnBhojoDTAUX",
        "colab_type": "code",
        "colab": {}
      },
      "source": [
        "def dict_encode(encoding, value):\n",
        "    if not value in encoding:\n",
        "        encoding[value] = {'code': len(encoding)+1, 'count': 0}\n",
        "    enc = encoding[value]\n",
        "    enc['count'] += 1\n",
        "    encoding[value] = enc"
      ],
      "execution_count": 0,
      "outputs": []
    },
    {
      "cell_type": "code",
      "metadata": {
        "id": "vDZYwMBKTAUZ",
        "colab_type": "code",
        "colab": {}
      },
      "source": [
        "def dict_decode(encoding, value, min_occurs):\n",
        "    enc = encoding[value]\n",
        "    if enc['count'] < min_occurs:\n",
        "        return -1\n",
        "    else:\n",
        "        return enc['code']"
      ],
      "execution_count": 0,
      "outputs": []
    },
    {
      "cell_type": "code",
      "metadata": {
        "id": "6Fd2hD-yTAUa",
        "colab_type": "code",
        "colab": {}
      },
      "source": [
        "def group_data(data, degree, min_occurs):\n",
        "    \"\"\" \n",
        "    numpy.array -> numpy.array\n",
        "    \n",
        "    Groups all columns of data into all combinations of degree\n",
        "    \"\"\"\n",
        "    m, n = data.shape\n",
        "    encoding = dict()\n",
        "    for indexes in combinations(range(n), degree):\n",
        "        for v in data[:, indexes]:\n",
        "            dict_encode(encoding, tuple(v))\n",
        "    new_data = []\n",
        "    for indexes in combinations(range(n), degree):\n",
        "        new_data.append([dict_decode(encoding, tuple(v), min_occurs) for v in data[:, indexes]])\n",
        "    return array(new_data).T"
      ],
      "execution_count": 0,
      "outputs": []
    },
    {
      "cell_type": "code",
      "metadata": {
        "id": "eXDHPxzNTAUc",
        "colab_type": "code",
        "colab": {}
      },
      "source": [
        "def one_hot_encoder(data, keymap=None):\n",
        "    \"\"\"\n",
        "     one_hot_encoder takes data matrix with categorical columns and\n",
        "     converts it to a sparse binary matrix.\n",
        "     \n",
        "     Returns sparse binary matrix and keymap mapping categories to indicies.\n",
        "     If a keymap is supplied on input it will be used instead of creating one\n",
        "     and any categories appearing in the data that are not in the keymap are\n",
        "     ignored\n",
        "     \"\"\"\n",
        "    if keymap is None:\n",
        "        keymap = []\n",
        "        for col in data.T:\n",
        "            uniques = set(list(col))\n",
        "            keymap.append(dict((key, i) for i, key in enumerate(uniques)))\n",
        "    total_pts = data.shape[0]\n",
        "    outdat = []\n",
        "    for i, col in enumerate(data.T):\n",
        "        km = keymap[i]\n",
        "        num_labels = len(km)\n",
        "        spmat = sparse.lil_matrix((total_pts, num_labels))\n",
        "        for j, val in enumerate(col):\n",
        "            if val in km:\n",
        "                spmat[j, km[val]] = 1\n",
        "        outdat.append(spmat)\n",
        "    outdat = sparse.hstack(outdat).tocsr()\n",
        "    return outdat, keymap"
      ],
      "execution_count": 0,
      "outputs": []
    },
    {
      "cell_type": "code",
      "metadata": {
        "id": "Cx9omJt0TAUe",
        "colab_type": "code",
        "colab": {}
      },
      "source": [
        "def create_test_submission(filename, prediction):\n",
        "    content = ['id,ACTION']\n",
        "    for i, p in enumerate(prediction):\n",
        "        content.append('%i,%f' % (i + 1, p))\n",
        "    f = open(filename, 'w')\n",
        "    f.write('\\n'.join(content))\n",
        "    f.close()\n",
        "    print('Saved')"
      ],
      "execution_count": 0,
      "outputs": []
    },
    {
      "cell_type": "code",
      "metadata": {
        "id": "JgTLqqFETAUg",
        "colab_type": "code",
        "colab": {}
      },
      "source": [
        "def cv_loop(X, y, model, N, seed):\n",
        "    mean_auc = 0.\n",
        "    k_fold = KFold(len(y), N, indices=True, shuffle=True,\n",
        "                   random_state=seed)\n",
        "    for train_ix, test_ix in k_fold:\n",
        "        model.fit(X[train_ix], y[train_ix])\n",
        "        preds = model.predict_proba(X[test_ix])[:, 1]\n",
        "        auc = metrics.auc_score(y[test_ix], preds)\n",
        "        #print(\"AUC (fold %d/%d): %f\" % (i + 1, N, auc))\n",
        "        mean_auc += auc\n",
        "    return mean_auc / N"
      ],
      "execution_count": 0,
      "outputs": []
    },
    {
      "cell_type": "code",
      "metadata": {
        "id": "4JIJDi-QTAUh",
        "colab_type": "code",
        "colab": {}
      },
      "source": [
        "def main(train, test, submit, seed, min_occurs, good_features):\n",
        "\n",
        "    start_time = time.time()\n",
        "    print(\"Reading train dataset...\")\n",
        "    train_data = trdata\n",
        "    print(train_data.head())\n",
        "\n",
        "    print(\"Reading test dataset...\")\n",
        "    test_data = testdata\n",
        "    print(test_data.head())\n",
        "\n",
        "    all_data = np.vstack((train_data.ix[:, 1:], test_data.ix[:, 1:]))\n",
        "\n",
        "    num_train = np.shape(train_data)[0]\n",
        "    # Transform data\n",
        "    print(\"Transforming data (%i instances)...\" % num_train)\n",
        "    d_2 = group_data(all_data, degree=2, min_occurs=min_occurs)\n",
        "    d_3 = group_data(all_data, degree=3, min_occurs=min_occurs)\n",
        "    d_4 = group_data(all_data, degree=4, min_occurs=min_occurs)\n",
        "    d_5 = group_data(all_data, degree=5, min_occurs=min_occurs)\n",
        "    d_6 = group_data(all_data, degree=6, min_occurs=min_occurs)\n",
        "    d_7 = group_data(all_data, degree=7, min_occurs=min_occurs)\n",
        "\n",
        "    y = array(train_data.ACTION)\n",
        "    #X_train_all = np.hstack((all_data[:num_train], d_2[:num_train], d_3[:num_train],\n",
        "    #                         d_4[:num_train], d_7[:num_train]))\n",
        "    #X_test_all = np.hstack((all_data[num_train:], d_2[num_train:], d_3[num_train:],\n",
        "    #                        d_4[num_train:], d_7[num_train:]))\n",
        "    X_train_all = np.hstack((all_data[:num_train], d_2[:num_train], d_3[:num_train], d_4[:num_train],\n",
        "                             d_5[:num_train], d_6[:num_train], d_7[:num_train]))\n",
        "    X_test_all = np.hstack((all_data[num_train:], d_2[num_train:], d_3[num_train:], d_4[num_train:],\n",
        "                            d_5[num_train:], d_6[num_train:], d_7[num_train:]))\n",
        "    num_features = X_train_all.shape[1]\n",
        "    print(\"Total number of categorical features %i\" % num_features)\n",
        "\n",
        "    rnd = random.Random()\n",
        "    rnd.seed(seed*num_features)\n",
        "\n",
        "    model = linear_model.LogisticRegression()\n",
        "    model.C = 0.5 + rnd.random()*3.5\n",
        "    print(\"Logistic C parameter: %f\" % model.C)\n",
        "\n",
        "    # Xts holds one hot encodings for each individual feature in memory\n",
        "    # speeding up feature selection \n",
        "    Xts = [one_hot_encoder(X_train_all[:, [i]])[0] for i in range(num_features)]\n",
        "\n",
        "    print(\"Performing aproximate greedy feature selection...\")\n",
        "    N = 10\n",
        "    if good_features is None:\n",
        "        score_hist = []\n",
        "        good_features = set([])\n",
        "\n",
        "        # Feature selection loop\n",
        "        f_remain = range(len(Xts))\n",
        "        cur_best_score = -1\n",
        "        cur_best_score_thres = 1.0\n",
        "        while len(score_hist) < 2 or score_hist[-1][0] > score_hist[-2][0]:\n",
        "            scores = []\n",
        "            f_shuff = list(f_remain)\n",
        "            rnd.shuffle(f_shuff)\n",
        "            n_thres = 0.3679*len(f_remain)\n",
        "            i = 0\n",
        "            iter_best_score = -1\n",
        "            for f in f_shuff:\n",
        "\n",
        "                i += 1\n",
        "                feats = list(good_features) + [f]\n",
        "                Xt = sparse.hstack([Xts[j] for j in feats]).tocsr()\n",
        "                score = cv_loop(Xt, y, model, N, seed)\n",
        "                if score < (cur_best_score*cur_best_score_thres):\n",
        "                    f_remain.remove(f)\n",
        "                    print(\"Discarded: %i (AUC = %f) \" % (f, score))\n",
        "                else:\n",
        "                    scores.append((score, f))\n",
        "                    if score > iter_best_score:\n",
        "                        iter_best_score = score\n",
        "                        if i > n_thres and iter_best_score > cur_best_score:\n",
        "                            print(\"Early stop on iter %i\" % i)\n",
        "                            break\n",
        "            if len(scores) > 0:\n",
        "                best_score = sorted(scores)[-1]\n",
        "                f_remain.remove(best_score[1])\n",
        "                if best_score[0] > cur_best_score:\n",
        "                    good_features.add(best_score[1])\n",
        "                    score_hist.append(best_score)\n",
        "                    cur_best_score = best_score[0]\n",
        "                print(\"Current features: %s (AUC = %f, remain = %i) \" %\n",
        "                      (list(good_features), best_score[0], len(f_remain)))\n",
        "            else:\n",
        "                break\n",
        "\n",
        "    good_features = sorted(list(good_features))\n",
        "    print(\"Selected features %s\" % good_features)\n",
        "\n",
        "    print(\"Performing hyperparameter selection...\")\n",
        "    # Hyperparameter selection loop\n",
        "    Xt = sparse.hstack([Xts[j] for j in good_features]).tocsr()\n",
        "    score_hist = []\n",
        "    score = cv_loop(Xt, y, model, N, seed)\n",
        "    score_hist.append((score, model.C))\n",
        "    \n",
        "    Cvals = np.logspace(-3, 4, 20, base=2)\n",
        "    for C in Cvals:\n",
        "        model.C = C\n",
        "        score = cv_loop(Xt, y, model, N, seed)\n",
        "        score_hist.append((score, C))\n",
        "        print(\"C: %f Mean AUC: %f\" % (C, score))\n",
        "    model.C = sorted(score_hist)[-1][1]\n",
        "    score = sorted(score_hist)[-1][0]\n",
        "    print(\"Best (C, AUC): (%f, %f)\" % (model.C, score))\n",
        "\n",
        "    print(\"Performing One Hot Encoding on entire dataset...\")\n",
        "    Xt = np.vstack((X_train_all[:, good_features], X_test_all[:, good_features]))\n",
        "    Xt, keymap = one_hot_encoder(Xt)\n",
        "    X_train = Xt[:num_train]\n",
        "    X_test = Xt[num_train:]\n",
        "\n",
        "    print(\"Training full model...\")\n",
        "    model.fit(X_train, y)\n",
        "\n",
        "    print(\"Making prediction and saving results...\")\n",
        "    preds = model.predict_proba(X_test)[:, 1]\n",
        "    create_test_submission(submit, preds)\n",
        "    print(\"Total time %f minutes\" % ((time.time() - start_time)/60.0))\n",
        "\n",
        "\n",
        "if __name__ == \"__main__\":\n",
        "\n",
        "    name_def = '11.1'\n",
        "    args = {'train': 'lr/data.lr.' + name_def + '.tr.csv',\n",
        "            'test': 'lr/data.lr.' + name_def + '.test.csv',\n",
        "            'submit': 'lr/data.lr.' + name_def + '.test.pred.csv',\n",
        "            'seed': 123,\n",
        "            'min_occurs': 3,\n",
        "            'good_features': []}\n",
        "    if len(sys.argv) >= 2:\n",
        "        args['train'] = sys.argv[1]\n",
        "\n",
        "    if len(sys.argv) >= 3:\n",
        "        args['test'] = sys.argv[2]\n",
        "\n",
        "    if len(sys.argv) >= 4:\n",
        "        args['submit'] = sys.argv[3]\n",
        "\n",
        "    if len(sys.argv) >= 5:\n",
        "        args['seed'] = int(sys.argv[4])\n",
        "\n",
        "    if len(sys.argv) >= 6:\n",
        "        args['min_occurs'] = int(sys.argv[5])\n",
        "\n",
        "    if len(sys.argv) >= 7:\n",
        "        args['good_features'] = [int(val) for val in sys.argv[6].split(',')]\n",
        "\n",
        "    if len(args['good_features']) == 0:\n",
        "        args['good_features'] = None\n",
        "\n",
        "    print(args)\n",
        "    main(**args)\n",
        "                            "
      ],
      "execution_count": 0,
      "outputs": []
    },
    {
      "cell_type": "code",
      "metadata": {
        "id": "xKdkhhy1XyTZ",
        "colab_type": "code",
        "colab": {
          "base_uri": "https://localhost:8080/",
          "height": 54
        },
        "outputId": "c34b37f8-a887-4fe2-9a99-cea4e7adef2c"
      },
      "source": [
        "print(args)"
      ],
      "execution_count": 19,
      "outputs": [
        {
          "output_type": "stream",
          "text": [
            "{'submit': 'lr/data.lr.11.1.test.pred.csv', 'train': '-f', 'good_features': None, 'test': '/root/.local/share/jupyter/runtime/kernel-d510e2f0-7b53-4aad-b905-1b14df3dfbda.json', 'seed': 123, 'min_occurs': 3}\n"
          ],
          "name": "stdout"
        }
      ]
    }
  ]
}